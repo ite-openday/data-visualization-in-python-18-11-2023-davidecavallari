{
 "cells": [
  {
   "cell_type": "markdown",
   "metadata": {},
   "source": [
    "# Dai una voce ai tuoi dati con Python!\n",
    "Ogni giorno siamo circondati da milioni di dati. Vediamo come Python può aiutarci a visualizzare questi dati!\n"
   ]
  },
  {
   "cell_type": "markdown",
   "metadata": {},
   "source": [
    "## I nostri dati\n",
    "Ecco un esempio di dati sulle vendite di gelati in base alla temperatura. \n"
   ]
  },
  {
   "cell_type": "code",
   "execution_count": null,
   "metadata": {},
   "outputs": [],
   "source": [
    "import pandas as pd\n",
    "\n",
    "# Creiamo i dati\n",
    "data = {\n",
    "    'Temperatura (°C)': [20, 22, 25, 28, 30],\n",
    "    'Gelati venduti': [50, 57, 68, 78, 90]\n",
    "}\n",
    "\n",
    "df = pd.DataFrame(data)\n",
    "\n",
    "# Vediamo i dati\n",
    "df"
   ]
  },
  {
   "cell_type": "markdown",
   "metadata": {},
   "source": [
    "## Visualizziamo i dati!\n",
    "Ora, vediamo come Python e `matplotlib` possono aiutarci a visualizzare questi dati in un grafico.\n"
   ]
  },
  {
   "cell_type": "code",
   "execution_count": null,
   "metadata": {},
   "outputs": [],
   "source": [
    "import matplotlib.pyplot as plt\n",
    "\n",
    "# Estraiamo i dati\n",
    "temperature = df['Temperatura (°C)']\n",
    "vendite = df['Gelati venduti']\n",
    "\n",
    "# Disegnamo un grafico\n",
    "plt.scatter(temperature, vendite, color='blue')  # QUI: Prova a cambiare in plt.bar e plt.plot per un grafico diverso! Prova a cambiare il colore!\n",
    "plt.title('Vendite di gelati in base alla temperatura')  # QUI: Modifica il titolo se vuoi!\n",
    "plt.xlabel('Temperatura (°C)')\n",
    "plt.ylabel('Gelati venduti')\n",
    "plt.grid(True)\n",
    "plt.show()\n"
   ]
  },
  {
   "cell_type": "markdown",
   "metadata": {},
   "source": [
    "## Finito!\n",
    "Con poche righe di codice e qualche modifica, abbiamo dato vita ai nostri dati. Questo è solo l'inizio!\n"
   ]
  }
 ],
 "metadata": {
  "kernelspec": {
   "display_name": ".venv",
   "language": "python",
   "name": "python3"
  },
  "language_info": {
   "codemirror_mode": {
    "name": "ipython",
    "version": 3
   },
   "file_extension": ".py",
   "mimetype": "text/x-python",
   "name": "python",
   "nbconvert_exporter": "python",
   "pygments_lexer": "ipython3",
   "version": "3.10.11"
  }
 },
 "nbformat": 4,
 "nbformat_minor": 2
}
